{
 "cells": [
  {
   "cell_type": "code",
   "execution_count": null,
   "metadata": {},
   "outputs": [],
   "source": [
    "import numpy as np\n",
    "import os\n",
    "import glob\n",
    "import cv2\n",
    "import matplotlib.pyplot as plt\n",
    "\n",
    "import insightface\n",
    "from insightface.app import FaceAnalysis\n",
    "from insightface.data import get_image as ins_get_image"
   ]
  },
  {
   "cell_type": "markdown",
   "metadata": {},
   "source": [
    "# Detect faces"
   ]
  },
  {
   "cell_type": "code",
   "execution_count": null,
   "metadata": {},
   "outputs": [],
   "source": [
    "app=FaceAnalysis(name=\"buffalo_l\")\n",
    "app.prepare(ctx_id=0,det_size=(640,640))"
   ]
  },
  {
   "cell_type": "code",
   "execution_count": null,
   "metadata": {},
   "outputs": [],
   "source": [
    "img=ins_get_image('t1')\n",
    "plt.imshow(img[:,:,::-1])\n",
    "plt.show()"
   ]
  },
  {
   "cell_type": "code",
   "execution_count": null,
   "metadata": {},
   "outputs": [],
   "source": []
  },
  {
   "cell_type": "code",
   "execution_count": null,
   "metadata": {},
   "outputs": [],
   "source": [
    "faces=app.get(img)"
   ]
  },
  {
   "cell_type": "code",
   "execution_count": null,
   "metadata": {},
   "outputs": [],
   "source": [
    "fig,axs=plt.subplots(1,6,figsize=(12,5))\n",
    "\n",
    "for i,face in enumerate(faces):\n",
    "    bbox=face['bbox']\n",
    "    bbox=[int(b) for b in bbox]\n",
    "    axs[i].imshow(img[bbox[1]:bbox[3],bbox[0]:bbox[2],::-1])\n",
    "    axs[i].axis('off')"
   ]
  },
  {
   "cell_type": "markdown",
   "metadata": {},
   "source": [
    "# Face swapping"
   ]
  },
  {
   "cell_type": "code",
   "execution_count": 6,
   "metadata": {},
   "outputs": [
    {
     "name": "stdout",
     "output_type": "stream",
     "text": [
      "Applied providers: ['CPUExecutionProvider'], with options: {'CPUExecutionProvider': {}}\n",
      "inswapper-shape: [1, 3, 128, 128]\n"
     ]
    }
   ],
   "source": [
    "swapper=insightface.model_zoo.get_model('inswapper_128.onnx',\n",
    "                                        #download=False,\n",
    "                                        #download_zip=False\n",
    "                                        )"
   ]
  },
  {
   "cell_type": "code",
   "execution_count": null,
   "metadata": {},
   "outputs": [],
   "source": [
    "img_turco=cv2.imread('turco.jpeg')\n",
    "faces=app.get(img_turco)\n",
    "source_face=faces[0]\n",
    "bbox_src=source_face['bbox']\n",
    "bbox_src=[int(b) for b in bbox_src]\n",
    "plt.imshow(img_turco[bbox_src[1]:bbox_src[3],bbox_src[0]:bbox_src[2],::-1])\n",
    "plt.axis('off')\n",
    "plt.show()\n"
   ]
  },
  {
   "cell_type": "code",
   "execution_count": null,
   "metadata": {},
   "outputs": [],
   "source": [
    "res=img.copy()\n",
    "\n",
    "for face in faces:\n",
    "    res=swapper.get(res,face,source_face,paste_back=True)"
   ]
  },
  {
   "cell_type": "code",
   "execution_count": null,
   "metadata": {},
   "outputs": [],
   "source": [
    "plt.imshow(res[:,:,::-1])\n",
    "plt.show()"
   ]
  },
  {
   "cell_type": "markdown",
   "metadata": {},
   "source": [
    "# Test_image"
   ]
  },
  {
   "cell_type": "code",
   "execution_count": null,
   "metadata": {},
   "outputs": [],
   "source": [
    "test_image=cv2.imread('descarga.jpg')"
   ]
  },
  {
   "cell_type": "code",
   "execution_count": null,
   "metadata": {},
   "outputs": [],
   "source": [
    "faces=app.get(test_image)"
   ]
  },
  {
   "cell_type": "code",
   "execution_count": null,
   "metadata": {},
   "outputs": [],
   "source": [
    "plt.imshow(test_image[:,:,::-1])\n",
    "plt.show()"
   ]
  },
  {
   "cell_type": "code",
   "execution_count": null,
   "metadata": {},
   "outputs": [],
   "source": [
    "source_face_test=faces\n",
    "\n"
   ]
  },
  {
   "cell_type": "code",
   "execution_count": null,
   "metadata": {},
   "outputs": [],
   "source": [
    "bbox_src=source_face_test\n"
   ]
  },
  {
   "cell_type": "code",
   "execution_count": null,
   "metadata": {},
   "outputs": [],
   "source": [
    "plt.imshow(test_image[bbox_src[0]:bbox_src[1],bbox_src[0]:bbox_src[0],::-1])\n",
    "plt.axis('off')\n",
    "plt.show()"
   ]
  },
  {
   "cell_type": "code",
   "execution_count": null,
   "metadata": {},
   "outputs": [],
   "source": [
    "source_face_test=faces[0]\n",
    "bbox_src=source_face_test['bbox']\n",
    "bbox_src=[int(b) for b in bbox_src]\n",
    "plt.imshow(test_image[bbox_src[0]:bbox_src[1],bbox_src[0]:bbox_src[0],::-1])\n",
    "plt.axis('off')\n",
    "plt.show()\n"
   ]
  },
  {
   "cell_type": "code",
   "execution_count": null,
   "metadata": {},
   "outputs": [],
   "source": [
    "len(faces)"
   ]
  },
  {
   "cell_type": "code",
   "execution_count": null,
   "metadata": {},
   "outputs": [],
   "source": [
    "fig,axs=plt.subplots(1,7,figsize=(12,5))\n",
    "\n",
    "for i,face in enumerate(faces):\n",
    "    bbox=face['bbox']\n",
    "    bbox=[int(b) for b in bbox]\n",
    "    axs[i].imshow(test_image[bbox[1]:bbox[3],bbox[0]:bbox[2],::-1])\n",
    "    axs[i].axis('off')"
   ]
  },
  {
   "cell_type": "code",
   "execution_count": null,
   "metadata": {},
   "outputs": [],
   "source": [
    "plt.imshow(test_image[:,:,::-1])"
   ]
  },
  {
   "cell_type": "code",
   "execution_count": null,
   "metadata": {},
   "outputs": [],
   "source": [
    "res_test_image=test_image.copy()\n",
    "\n",
    "for face in faces:\n",
    "    res_test_image=swapper.get(res_test_image,face,source_face_test,paste_back=True)"
   ]
  },
  {
   "cell_type": "code",
   "execution_count": null,
   "metadata": {},
   "outputs": [],
   "source": [
    "plt.figure(figsize=(20,20))\n",
    "plt.imshow(res_test_image[:,:,::-1])\n",
    "plt.axis('off')\n",
    "plt.show()"
   ]
  },
  {
   "cell_type": "markdown",
   "metadata": {},
   "source": [
    "# Imagen 1 a 1"
   ]
  },
  {
   "cell_type": "code",
   "execution_count": 14,
   "metadata": {},
   "outputs": [
    {
     "name": "stdout",
     "output_type": "stream",
     "text": [
      "Applied providers: ['CPUExecutionProvider'], with options: {'CPUExecutionProvider': {}}\n",
      "find model: /home/ariel/.insightface/models/buffalo_l/1k3d68.onnx landmark_3d_68 ['None', 3, 192, 192] 0.0 1.0\n",
      "Applied providers: ['CPUExecutionProvider'], with options: {'CPUExecutionProvider': {}}\n",
      "find model: /home/ariel/.insightface/models/buffalo_l/2d106det.onnx landmark_2d_106 ['None', 3, 192, 192] 0.0 1.0\n",
      "Applied providers: ['CPUExecutionProvider'], with options: {'CPUExecutionProvider': {}}\n",
      "find model: /home/ariel/.insightface/models/buffalo_l/det_10g.onnx detection [1, 3, '?', '?'] 127.5 128.0\n",
      "Applied providers: ['CPUExecutionProvider'], with options: {'CPUExecutionProvider': {}}\n",
      "find model: /home/ariel/.insightface/models/buffalo_l/genderage.onnx genderage ['None', 3, 96, 96] 0.0 1.0\n",
      "Applied providers: ['CPUExecutionProvider'], with options: {'CPUExecutionProvider': {}}\n",
      "find model: /home/ariel/.insightface/models/buffalo_l/w600k_r50.onnx recognition ['None', 3, 112, 112] 127.5 127.5\n",
      "set det-size: (640, 640)\n",
      "Applied providers: ['CPUExecutionProvider'], with options: {'CPUExecutionProvider': {}}\n",
      "inswapper-shape: [1, 3, 128, 128]\n"
     ]
    },
    {
     "data": {
      "text/plain": [
       "True"
      ]
     },
     "execution_count": 14,
     "metadata": {},
     "output_type": "execute_result"
    }
   ],
   "source": [
    "import cv2\n",
    "import insightface\n",
    "from insightface.app import FaceAnalysis\n",
    "import numpy as np\n",
    "\n",
    "# Cargar el modelo de análisis facial (detección de caras)\n",
    "model = FaceAnalysis(name=\"buffalo_l\")\n",
    "model.prepare(ctx_id=0, det_size=(640, 640))\n",
    "\n",
    "# Cargar el modelo de intercambio de caras\n",
    "swapper = insightface.model_zoo.get_model('inswapper_128.onnx')\n",
    "\n",
    "# Cargar las imágenes\n",
    "imagen_fuente = cv2.imread('turco.jpeg')  # Imagen de la cual se extraerá la cara\n",
    "imagen_objetivo = cv2.imread('descarga.jpg')  # Imagen donde se insertará la cara\n",
    "\n",
    "# Detectar caras en la imagen fuente\n",
    "caras_fuente = model.get(imagen_fuente)\n",
    "if len(caras_fuente) == 0:\n",
    "    raise ValueError(\"No se encontró ninguna cara en la imagen fuente.\")\n",
    "\n",
    "# Detectar caras en la imagen objetivo\n",
    "caras_objetivo = model.get(imagen_objetivo)\n",
    "if len(caras_objetivo) == 0:\n",
    "    raise ValueError(\"No se encontró ninguna cara en la imagen objetivo.\")\n",
    "\n",
    "# Tomar la primera cara encontrada en la imagen objetivo\n",
    "cara_objetivo = caras_objetivo[0]\n",
    "\n",
    "# Realizar el intercambio de caras\n",
    "resultado = swapper.get(imagen_objetivo, cara_objetivo, caras_fuente[0])\n",
    "\n",
    "# Guardar la imagen resultado\n",
    "cv2.imwrite('resultado.jpg', resultado)\n",
    "\n"
   ]
  }
 ],
 "metadata": {
  "kernelspec": {
   "display_name": "src-2ezwFDKK-py3.8",
   "language": "python",
   "name": "python3"
  },
  "language_info": {
   "codemirror_mode": {
    "name": "ipython",
    "version": 3
   },
   "file_extension": ".py",
   "mimetype": "text/x-python",
   "name": "python",
   "nbconvert_exporter": "python",
   "pygments_lexer": "ipython3",
   "version": "3.8.10"
  },
  "orig_nbformat": 4
 },
 "nbformat": 4,
 "nbformat_minor": 2
}
